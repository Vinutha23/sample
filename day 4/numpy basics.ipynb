{
 "cells": [
  {
   "cell_type": "code",
   "execution_count": 1,
   "id": "c7c75203-d4e7-4c1d-b025-bb5b8ae645ce",
   "metadata": {},
   "outputs": [
    {
     "name": "stdout",
     "output_type": "stream",
     "text": [
      "2.2.3\n"
     ]
    }
   ],
   "source": [
    "import numpy as np\n",
    "print(np.__version__)"
   ]
  },
  {
   "cell_type": "code",
   "execution_count": 5,
   "id": "414c36dc-9a8c-4280-9e7e-251f2a449662",
   "metadata": {},
   "outputs": [
    {
     "name": "stdout",
     "output_type": "stream",
     "text": [
      "[10 20 30 40 50]\n",
      "Type: <class 'numpy.ndarray'>\n",
      "Shape (5,)\n"
     ]
    }
   ],
   "source": [
    "#Array Creation\n",
    "list=[10,20,30,40,50]\n",
    "arr = np.array(list)\n",
    "print(arr)\n",
    "print('Type:', type(arr))\n",
    "print('Shape',arr.shape)"
   ]
  },
  {
   "cell_type": "markdown",
   "id": "a8ed07b7-0d30-438c-b240-8323a0a6325e",
   "metadata": {},
   "source": [
    "arr1= np.array([[1,2,3],[4,5,6]])\n",
    "print(arr1)\n",
    "print(arr1.shape)\n",
    "print(arr1.size)"
   ]
  },
  {
   "cell_type": "raw",
   "id": "8c6d67f1-6208-438e-b1a0-c8d10613b452",
   "metadata": {},
   "source": [
    "arr1= np.array([[1,2,3],[4,5,6]]) \n",
    "print(arr1) \n",
    "print(arr1.shape) \n",
    "print(arr1.size)\n",
    "print(arr1[0])\n",
    "print(arr1[0][2])"
   ]
  },
  {
   "cell_type": "code",
   "execution_count": 9,
   "id": "7094107c-8d26-41bb-9a9e-7cd39fa5cb64",
   "metadata": {},
   "outputs": [
    {
     "name": "stdout",
     "output_type": "stream",
     "text": [
      "[[0. 0. 0.]\n",
      " [0. 0. 0.]]\n",
      "0.0\n"
     ]
    }
   ],
   "source": [
    "arr1=np.zeros((2,3))\n",
    "print(arr1)\n",
    "print(arr1[0][1])"
   ]
  },
  {
   "cell_type": "code",
   "execution_count": 10,
   "id": "d8a8e5c7-90e4-49f8-a572-5ca27ac9668c",
   "metadata": {},
   "outputs": [
    {
     "name": "stdout",
     "output_type": "stream",
     "text": [
      "[[1. 1. 1.]\n",
      " [1. 1. 1.]\n",
      " [1. 1. 1.]]\n"
     ]
    }
   ],
   "source": [
    "arr2=np.ones((3,3))\n",
    "print(arr2)"
   ]
  },
  {
   "cell_type": "code",
   "execution_count": 12,
   "id": "f5469168-65d4-444b-a2ef-cf540cd4167a",
   "metadata": {},
   "outputs": [
    {
     "name": "stdout",
     "output_type": "stream",
     "text": [
      "[1 4 7]\n"
     ]
    }
   ],
   "source": [
    "arr3=np.arange(1,10,3)\n",
    "print(arr3)"
   ]
  },
  {
   "cell_type": "code",
   "execution_count": 14,
   "id": "7fed2ac1-4c27-4736-9837-7df6adc3dd67",
   "metadata": {},
   "outputs": [
    {
     "name": "stdout",
     "output_type": "stream",
     "text": [
      "[[1 4 7]\n",
      " [2 5 8]]\n"
     ]
    }
   ],
   "source": [
    "sample=np.array([np.arange(1,10,3),np.arange(2,10,3)])\n",
    "print(sample)"
   ]
  },
  {
   "cell_type": "code",
   "execution_count": 16,
   "id": "0c94ac7d-1353-4da4-bcc9-7eda66c0c482",
   "metadata": {},
   "outputs": [
    {
     "name": "stdout",
     "output_type": "stream",
     "text": [
      "[ 3  9 15]\n",
      "[ 2 20 56]\n",
      "[ 1 16 49]\n"
     ]
    }
   ],
   "source": [
    "arr3=np.arange(1,10,3)\n",
    "arr4=np.arange(2,10,3)\n",
    "print(arr3+arr4)\n",
    "print(arr3*arr4)\n",
    "print(arr3**2)"
   ]
  },
  {
   "cell_type": "code",
   "execution_count": 17,
   "id": "896fb7fd-e4fa-470c-95da-7b5e0a8d076e",
   "metadata": {},
   "outputs": [
    {
     "name": "stdout",
     "output_type": "stream",
     "text": [
      "total: [ 450  950  450 1650  230]\n",
      "average [150.         316.66666667 150.         550.          76.66666667]\n"
     ]
    }
   ],
   "source": [
    "purchase=np.array([\n",
    "    [200,150,100],\n",
    "    [300,250,400],\n",
    "    [100,200,150],\n",
    "    [500,600,550],\n",
    "    [50,80,100]\n",
    "])\n",
    "total_spend=purchase.sum(axis=1)\n",
    "average_spend=purchase.mean(axis=1)\n",
    "print(\"total:\",total_spend)\n",
    "print(\"average\",average_spend)\n",
    "    "
   ]
  },
  {
   "cell_type": "code",
   "execution_count": 18,
   "id": "ebba91f2-4dc7-4f89-b6ec-d890213189f3",
   "metadata": {},
   "outputs": [
    {
     "name": "stdout",
     "output_type": "stream",
     "text": [
      "Solution(x,y): [2.2 1.2]\n"
     ]
    }
   ],
   "source": [
    "A=np.array([[2,3],[4,1]])\n",
    "B=np.array([8,10])\n",
    "solution=np.linalg.solve(A,B)\n",
    "print(\"Solution(x,y):\",solution)"
   ]
  },
  {
   "cell_type": "code",
   "execution_count": 19,
   "id": "302645dc-4b7d-40d8-a754-f2b9fb2b67b8",
   "metadata": {},
   "outputs": [
    {
     "name": "stdout",
     "output_type": "stream",
     "text": [
      "Total Sales: 15900\n",
      "Average Sales: 1590.0\n",
      "Highest Sales: 2000\n",
      "Lowest Sales: 1000\n"
     ]
    }
   ],
   "source": [
    "sales = np.array([1000, 1800, 1500, 1100, 1900, 1500, 1950, 2000, 1750, 1400])\n",
    " \n",
    "#total sales\n",
    "total_sales = np.sum(sales)\n",
    "#average sales\n",
    "avg_sales = np.mean(sales)\n",
    "#highest sales\n",
    "highest_sales = np.max(sales)\n",
    "#lowest sales\n",
    "lowest_sales = np.min(sales)\n",
    "print(f\"Total Sales: {total_sales}\")\n",
    "print(f\"Average Sales: {avg_sales}\")\n",
    "print(f\"Highest Sales: {highest_sales}\")\n",
    "print(f\"Lowest Sales: {lowest_sales}\")"
   ]
  },
  {
   "cell_type": "code",
   "execution_count": 20,
   "id": "688d4533-9faf-4c62-a96f-99e07ae18298",
   "metadata": {},
   "outputs": [
    {
     "name": "stdout",
     "output_type": "stream",
     "text": [
      "Total Sales: 15900\n",
      "Average Sales: 1590.0\n",
      "Highest Sales: 2000\n",
      "Lowest Sales: 1000\n",
      "Days with sales above the average: [1 4 6 7 8]\n",
      "Sales with 10% increase: [1100. 1980. 1650. 1210. 2090. 1650. 2145. 2200. 1925. 1540.]\n"
     ]
    }
   ],
   "source": [
    "import numpy as np\n",
    " \n",
    "sales = np.array([1000, 1800, 1500, 1100, 1900, 1500, 1950, 2000, 1750, 1400])\n",
    " \n",
    "#total sales\n",
    "total_sales = np.sum(sales)\n",
    "#average sales\n",
    "avg_sales = np.mean(sales)\n",
    "#highest sales\n",
    "highest_sales = np.max(sales)\n",
    "#lowest sales\n",
    "lowest_sales = np.min(sales)\n",
    "print(f\"Total Sales: {total_sales}\")\n",
    "print(f\"Average Sales: {avg_sales}\")\n",
    "print(f\"Highest Sales: {highest_sales}\")\n",
    "print(f\"Lowest Sales: {lowest_sales}\")\n",
    "#above the average\n",
    "days_above_avg = np.where(sales > avg_sales)[0]\n",
    "print(f\"Days with sales above the average: {days_above_avg}\")\n",
    "#10% increase\n",
    "increased_sales = sales * 1.10\n",
    "print(f\"Sales with 10% increase: {increased_sales}\")"
   ]
  },
  {
   "cell_type": "code",
   "execution_count": 23,
   "id": "11b4ffbb-dcdb-4059-bab3-7486ad9352d4",
   "metadata": {},
   "outputs": [
    {
     "name": "stdout",
     "output_type": "stream",
     "text": [
      "sales higher than average: [1800 1900 1950 2000 1750]\n"
     ]
    }
   ],
   "source": [
    "print(\"sales higher than average:\",sales[sales>avg_sales])"
   ]
  },
  {
   "cell_type": "code",
   "execution_count": 24,
   "id": "4743869a-a11c-40d6-bca7-087a9e269753",
   "metadata": {},
   "outputs": [
    {
     "name": "stdout",
     "output_type": "stream",
     "text": [
      "[1100. 1980. 1650. 1210. 2090. 1650. 2145. 2200. 1925. 1540.]\n",
      "[1000 1800 1500 1100 1900 1500 1950 2000 1750 1400]\n"
     ]
    }
   ],
   "source": [
    "updated=sales*1.1\n",
    "print(updated)\n",
    "print(sales)"
   ]
  },
  {
   "cell_type": "code",
   "execution_count": 25,
   "id": "bb210b9d-421d-4ac9-94d4-b43d10fac10a",
   "metadata": {},
   "outputs": [
    {
     "name": "stdout",
     "output_type": "stream",
     "text": [
      "[1000 1100 1400 1500 1500 1750 1800 1900 1950 2000]\n"
     ]
    }
   ],
   "source": [
    "print(np.sort(sales))"
   ]
  },
  {
   "cell_type": "code",
   "execution_count": 29,
   "id": "376081c8-1f3e-44a8-8487-4e4aa619c1ed",
   "metadata": {},
   "outputs": [
    {
     "name": "stdout",
     "output_type": "stream",
     "text": [
      "    order_id                         product   Category  Quantity  Price  \\\n",
      "0       1001                        LG KP130         LG         3   2698   \n",
      "1       1002                      Celkon C99     Celkon         3  10219   \n",
      "2       1003                   Panasonic X88  Panasonic         1  11735   \n",
      "3       1004         Samsung M6710 Beat DISC    Samsung         3   6839   \n",
      "4       1005                        Realme 5     Realme         4   7712   \n",
      "5       1006   Samsung Galaxy S4 mini I9195I    Samsung         4   9462   \n",
      "6       1007  Samsung Galaxy Xcover FieldPro    Samsung         2  10262   \n",
      "7       1008                        LG G7120         LG         5   8026   \n",
      "8       1009                     XOLO One HD       XOLO         1   8993   \n",
      "9       1010               Yezz Billy 5S LTE       Yezz         3   2497   \n",
      "10      1011                    verykool R80   verykool         3   6824   \n",
      "11      1012                      Nokia 1209      Nokia         2   9333   \n",
      "12      1013                  alcatel OT 355    alcatel         2  10080   \n",
      "13      1014                      Bird S1130       Bird         5   7381   \n",
      "14      1015               Microsoft Kin One  Microsoft         2   5560   \n",
      "15      1016                   verykool i410   verykool         4   7063   \n",
      "16      1017              Nokia 3720 classic      Nokia         5   5974   \n",
      "17      1018                  BLU Samba Mini        BLU         3   5928   \n",
      "18      1019                   Motorola V188   Motorola         2   2051   \n",
      "19      1020                      LG G Vista         LG         3   5140   \n",
      "\n",
      "    Total_Amount        Date  \n",
      "0              0   5/28/2024  \n",
      "1              0   2/20/2024  \n",
      "2              0   1/30/2025  \n",
      "3              0    2/7/2025  \n",
      "4              0   4/28/2024  \n",
      "5              0   4/21/2024  \n",
      "6              0    5/1/2024  \n",
      "7              0  10/26/2024  \n",
      "8              0   1/21/2025  \n",
      "9              0    8/8/2024  \n",
      "10             0   1/31/2025  \n",
      "11             0   9/17/2024  \n",
      "12             0    2/6/2025  \n",
      "13             0    7/5/2024  \n",
      "14             0   12/7/2024  \n",
      "15             0  12/30/2024  \n",
      "16             0    5/3/2024  \n",
      "17             0   8/25/2024  \n",
      "18             0   1/17/2025  \n",
      "19             0   2/14/2024  \n"
     ]
    }
   ],
   "source": [
    "import pandas as pd\n",
    " \n",
    "df = pd.read_csv('Store_data.csv')\n",
    " \n",
    "print(df)"
   ]
  },
  {
   "cell_type": "code",
   "execution_count": 30,
   "id": "f628a78d-993f-47cd-a2f0-21e6b6c30e28",
   "metadata": {},
   "outputs": [
    {
     "name": "stdout",
     "output_type": "stream",
     "text": [
      "<class 'pandas.core.frame.DataFrame'>\n",
      "RangeIndex: 20 entries, 0 to 19\n",
      "Data columns (total 7 columns):\n",
      " #   Column        Non-Null Count  Dtype \n",
      "---  ------        --------------  ----- \n",
      " 0   order_id      20 non-null     int64 \n",
      " 1   product       20 non-null     object\n",
      " 2   Category      20 non-null     object\n",
      " 3   Quantity      20 non-null     int64 \n",
      " 4   Price         20 non-null     int64 \n",
      " 5   Total_Amount  20 non-null     int64 \n",
      " 6   Date          20 non-null     object\n",
      "dtypes: int64(4), object(3)\n",
      "memory usage: 1.2+ KB\n"
     ]
    }
   ],
   "source": [
    "df.info()"
   ]
  },
  {
   "cell_type": "code",
   "execution_count": 31,
   "id": "509324ba-e51a-414b-9302-2acc3af5688f",
   "metadata": {},
   "outputs": [
    {
     "data": {
      "text/html": [
       "<div>\n",
       "<style scoped>\n",
       "    .dataframe tbody tr th:only-of-type {\n",
       "        vertical-align: middle;\n",
       "    }\n",
       "\n",
       "    .dataframe tbody tr th {\n",
       "        vertical-align: top;\n",
       "    }\n",
       "\n",
       "    .dataframe thead th {\n",
       "        text-align: right;\n",
       "    }\n",
       "</style>\n",
       "<table border=\"1\" class=\"dataframe\">\n",
       "  <thead>\n",
       "    <tr style=\"text-align: right;\">\n",
       "      <th></th>\n",
       "      <th>order_id</th>\n",
       "      <th>product</th>\n",
       "      <th>Category</th>\n",
       "      <th>Quantity</th>\n",
       "      <th>Price</th>\n",
       "      <th>Total_Amount</th>\n",
       "      <th>Date</th>\n",
       "    </tr>\n",
       "  </thead>\n",
       "  <tbody>\n",
       "    <tr>\n",
       "      <th>0</th>\n",
       "      <td>False</td>\n",
       "      <td>False</td>\n",
       "      <td>False</td>\n",
       "      <td>False</td>\n",
       "      <td>False</td>\n",
       "      <td>False</td>\n",
       "      <td>False</td>\n",
       "    </tr>\n",
       "    <tr>\n",
       "      <th>1</th>\n",
       "      <td>False</td>\n",
       "      <td>False</td>\n",
       "      <td>False</td>\n",
       "      <td>False</td>\n",
       "      <td>False</td>\n",
       "      <td>False</td>\n",
       "      <td>False</td>\n",
       "    </tr>\n",
       "    <tr>\n",
       "      <th>2</th>\n",
       "      <td>False</td>\n",
       "      <td>False</td>\n",
       "      <td>False</td>\n",
       "      <td>False</td>\n",
       "      <td>False</td>\n",
       "      <td>False</td>\n",
       "      <td>False</td>\n",
       "    </tr>\n",
       "    <tr>\n",
       "      <th>3</th>\n",
       "      <td>False</td>\n",
       "      <td>False</td>\n",
       "      <td>False</td>\n",
       "      <td>False</td>\n",
       "      <td>False</td>\n",
       "      <td>False</td>\n",
       "      <td>False</td>\n",
       "    </tr>\n",
       "    <tr>\n",
       "      <th>4</th>\n",
       "      <td>False</td>\n",
       "      <td>False</td>\n",
       "      <td>False</td>\n",
       "      <td>False</td>\n",
       "      <td>False</td>\n",
       "      <td>False</td>\n",
       "      <td>False</td>\n",
       "    </tr>\n",
       "    <tr>\n",
       "      <th>5</th>\n",
       "      <td>False</td>\n",
       "      <td>False</td>\n",
       "      <td>False</td>\n",
       "      <td>False</td>\n",
       "      <td>False</td>\n",
       "      <td>False</td>\n",
       "      <td>False</td>\n",
       "    </tr>\n",
       "    <tr>\n",
       "      <th>6</th>\n",
       "      <td>False</td>\n",
       "      <td>False</td>\n",
       "      <td>False</td>\n",
       "      <td>False</td>\n",
       "      <td>False</td>\n",
       "      <td>False</td>\n",
       "      <td>False</td>\n",
       "    </tr>\n",
       "    <tr>\n",
       "      <th>7</th>\n",
       "      <td>False</td>\n",
       "      <td>False</td>\n",
       "      <td>False</td>\n",
       "      <td>False</td>\n",
       "      <td>False</td>\n",
       "      <td>False</td>\n",
       "      <td>False</td>\n",
       "    </tr>\n",
       "    <tr>\n",
       "      <th>8</th>\n",
       "      <td>False</td>\n",
       "      <td>False</td>\n",
       "      <td>False</td>\n",
       "      <td>False</td>\n",
       "      <td>False</td>\n",
       "      <td>False</td>\n",
       "      <td>False</td>\n",
       "    </tr>\n",
       "    <tr>\n",
       "      <th>9</th>\n",
       "      <td>False</td>\n",
       "      <td>False</td>\n",
       "      <td>False</td>\n",
       "      <td>False</td>\n",
       "      <td>False</td>\n",
       "      <td>False</td>\n",
       "      <td>False</td>\n",
       "    </tr>\n",
       "    <tr>\n",
       "      <th>10</th>\n",
       "      <td>False</td>\n",
       "      <td>False</td>\n",
       "      <td>False</td>\n",
       "      <td>False</td>\n",
       "      <td>False</td>\n",
       "      <td>False</td>\n",
       "      <td>False</td>\n",
       "    </tr>\n",
       "    <tr>\n",
       "      <th>11</th>\n",
       "      <td>False</td>\n",
       "      <td>False</td>\n",
       "      <td>False</td>\n",
       "      <td>False</td>\n",
       "      <td>False</td>\n",
       "      <td>False</td>\n",
       "      <td>False</td>\n",
       "    </tr>\n",
       "    <tr>\n",
       "      <th>12</th>\n",
       "      <td>False</td>\n",
       "      <td>False</td>\n",
       "      <td>False</td>\n",
       "      <td>False</td>\n",
       "      <td>False</td>\n",
       "      <td>False</td>\n",
       "      <td>False</td>\n",
       "    </tr>\n",
       "    <tr>\n",
       "      <th>13</th>\n",
       "      <td>False</td>\n",
       "      <td>False</td>\n",
       "      <td>False</td>\n",
       "      <td>False</td>\n",
       "      <td>False</td>\n",
       "      <td>False</td>\n",
       "      <td>False</td>\n",
       "    </tr>\n",
       "    <tr>\n",
       "      <th>14</th>\n",
       "      <td>False</td>\n",
       "      <td>False</td>\n",
       "      <td>False</td>\n",
       "      <td>False</td>\n",
       "      <td>False</td>\n",
       "      <td>False</td>\n",
       "      <td>False</td>\n",
       "    </tr>\n",
       "    <tr>\n",
       "      <th>15</th>\n",
       "      <td>False</td>\n",
       "      <td>False</td>\n",
       "      <td>False</td>\n",
       "      <td>False</td>\n",
       "      <td>False</td>\n",
       "      <td>False</td>\n",
       "      <td>False</td>\n",
       "    </tr>\n",
       "    <tr>\n",
       "      <th>16</th>\n",
       "      <td>False</td>\n",
       "      <td>False</td>\n",
       "      <td>False</td>\n",
       "      <td>False</td>\n",
       "      <td>False</td>\n",
       "      <td>False</td>\n",
       "      <td>False</td>\n",
       "    </tr>\n",
       "    <tr>\n",
       "      <th>17</th>\n",
       "      <td>False</td>\n",
       "      <td>False</td>\n",
       "      <td>False</td>\n",
       "      <td>False</td>\n",
       "      <td>False</td>\n",
       "      <td>False</td>\n",
       "      <td>False</td>\n",
       "    </tr>\n",
       "    <tr>\n",
       "      <th>18</th>\n",
       "      <td>False</td>\n",
       "      <td>False</td>\n",
       "      <td>False</td>\n",
       "      <td>False</td>\n",
       "      <td>False</td>\n",
       "      <td>False</td>\n",
       "      <td>False</td>\n",
       "    </tr>\n",
       "    <tr>\n",
       "      <th>19</th>\n",
       "      <td>False</td>\n",
       "      <td>False</td>\n",
       "      <td>False</td>\n",
       "      <td>False</td>\n",
       "      <td>False</td>\n",
       "      <td>False</td>\n",
       "      <td>False</td>\n",
       "    </tr>\n",
       "  </tbody>\n",
       "</table>\n",
       "</div>"
      ],
      "text/plain": [
       "    order_id  product  Category  Quantity  Price  Total_Amount   Date\n",
       "0      False    False     False     False  False         False  False\n",
       "1      False    False     False     False  False         False  False\n",
       "2      False    False     False     False  False         False  False\n",
       "3      False    False     False     False  False         False  False\n",
       "4      False    False     False     False  False         False  False\n",
       "5      False    False     False     False  False         False  False\n",
       "6      False    False     False     False  False         False  False\n",
       "7      False    False     False     False  False         False  False\n",
       "8      False    False     False     False  False         False  False\n",
       "9      False    False     False     False  False         False  False\n",
       "10     False    False     False     False  False         False  False\n",
       "11     False    False     False     False  False         False  False\n",
       "12     False    False     False     False  False         False  False\n",
       "13     False    False     False     False  False         False  False\n",
       "14     False    False     False     False  False         False  False\n",
       "15     False    False     False     False  False         False  False\n",
       "16     False    False     False     False  False         False  False\n",
       "17     False    False     False     False  False         False  False\n",
       "18     False    False     False     False  False         False  False\n",
       "19     False    False     False     False  False         False  False"
      ]
     },
     "execution_count": 31,
     "metadata": {},
     "output_type": "execute_result"
    }
   ],
   "source": [
    "df.isnull()"
   ]
  },
  {
   "cell_type": "code",
   "execution_count": 32,
   "id": "fd31f8ad-d071-4ab5-8180-5e369a660e07",
   "metadata": {},
   "outputs": [
    {
     "data": {
      "text/html": [
       "<div>\n",
       "<style scoped>\n",
       "    .dataframe tbody tr th:only-of-type {\n",
       "        vertical-align: middle;\n",
       "    }\n",
       "\n",
       "    .dataframe tbody tr th {\n",
       "        vertical-align: top;\n",
       "    }\n",
       "\n",
       "    .dataframe thead th {\n",
       "        text-align: right;\n",
       "    }\n",
       "</style>\n",
       "<table border=\"1\" class=\"dataframe\">\n",
       "  <thead>\n",
       "    <tr style=\"text-align: right;\">\n",
       "      <th></th>\n",
       "      <th>order_id</th>\n",
       "      <th>product</th>\n",
       "      <th>Category</th>\n",
       "      <th>Quantity</th>\n",
       "      <th>Price</th>\n",
       "      <th>Total_Amount</th>\n",
       "      <th>Date</th>\n",
       "    </tr>\n",
       "  </thead>\n",
       "  <tbody>\n",
       "    <tr>\n",
       "      <th>0</th>\n",
       "      <td>1001</td>\n",
       "      <td>LG KP130</td>\n",
       "      <td>LG</td>\n",
       "      <td>3</td>\n",
       "      <td>2698</td>\n",
       "      <td>0</td>\n",
       "      <td>5/28/2024</td>\n",
       "    </tr>\n",
       "    <tr>\n",
       "      <th>1</th>\n",
       "      <td>1002</td>\n",
       "      <td>Celkon C99</td>\n",
       "      <td>Celkon</td>\n",
       "      <td>3</td>\n",
       "      <td>10219</td>\n",
       "      <td>0</td>\n",
       "      <td>2/20/2024</td>\n",
       "    </tr>\n",
       "    <tr>\n",
       "      <th>2</th>\n",
       "      <td>1003</td>\n",
       "      <td>Panasonic X88</td>\n",
       "      <td>Panasonic</td>\n",
       "      <td>1</td>\n",
       "      <td>11735</td>\n",
       "      <td>0</td>\n",
       "      <td>1/30/2025</td>\n",
       "    </tr>\n",
       "    <tr>\n",
       "      <th>3</th>\n",
       "      <td>1004</td>\n",
       "      <td>Samsung M6710 Beat DISC</td>\n",
       "      <td>Samsung</td>\n",
       "      <td>3</td>\n",
       "      <td>6839</td>\n",
       "      <td>0</td>\n",
       "      <td>2/7/2025</td>\n",
       "    </tr>\n",
       "    <tr>\n",
       "      <th>4</th>\n",
       "      <td>1005</td>\n",
       "      <td>Realme 5</td>\n",
       "      <td>Realme</td>\n",
       "      <td>4</td>\n",
       "      <td>7712</td>\n",
       "      <td>0</td>\n",
       "      <td>4/28/2024</td>\n",
       "    </tr>\n",
       "    <tr>\n",
       "      <th>5</th>\n",
       "      <td>1006</td>\n",
       "      <td>Samsung Galaxy S4 mini I9195I</td>\n",
       "      <td>Samsung</td>\n",
       "      <td>4</td>\n",
       "      <td>9462</td>\n",
       "      <td>0</td>\n",
       "      <td>4/21/2024</td>\n",
       "    </tr>\n",
       "    <tr>\n",
       "      <th>6</th>\n",
       "      <td>1007</td>\n",
       "      <td>Samsung Galaxy Xcover FieldPro</td>\n",
       "      <td>Samsung</td>\n",
       "      <td>2</td>\n",
       "      <td>10262</td>\n",
       "      <td>0</td>\n",
       "      <td>5/1/2024</td>\n",
       "    </tr>\n",
       "    <tr>\n",
       "      <th>7</th>\n",
       "      <td>1008</td>\n",
       "      <td>LG G7120</td>\n",
       "      <td>LG</td>\n",
       "      <td>5</td>\n",
       "      <td>8026</td>\n",
       "      <td>0</td>\n",
       "      <td>10/26/2024</td>\n",
       "    </tr>\n",
       "    <tr>\n",
       "      <th>8</th>\n",
       "      <td>1009</td>\n",
       "      <td>XOLO One HD</td>\n",
       "      <td>XOLO</td>\n",
       "      <td>1</td>\n",
       "      <td>8993</td>\n",
       "      <td>0</td>\n",
       "      <td>1/21/2025</td>\n",
       "    </tr>\n",
       "    <tr>\n",
       "      <th>9</th>\n",
       "      <td>1010</td>\n",
       "      <td>Yezz Billy 5S LTE</td>\n",
       "      <td>Yezz</td>\n",
       "      <td>3</td>\n",
       "      <td>2497</td>\n",
       "      <td>0</td>\n",
       "      <td>8/8/2024</td>\n",
       "    </tr>\n",
       "    <tr>\n",
       "      <th>10</th>\n",
       "      <td>1011</td>\n",
       "      <td>verykool R80</td>\n",
       "      <td>verykool</td>\n",
       "      <td>3</td>\n",
       "      <td>6824</td>\n",
       "      <td>0</td>\n",
       "      <td>1/31/2025</td>\n",
       "    </tr>\n",
       "    <tr>\n",
       "      <th>11</th>\n",
       "      <td>1012</td>\n",
       "      <td>Nokia 1209</td>\n",
       "      <td>Nokia</td>\n",
       "      <td>2</td>\n",
       "      <td>9333</td>\n",
       "      <td>0</td>\n",
       "      <td>9/17/2024</td>\n",
       "    </tr>\n",
       "    <tr>\n",
       "      <th>12</th>\n",
       "      <td>1013</td>\n",
       "      <td>alcatel OT 355</td>\n",
       "      <td>alcatel</td>\n",
       "      <td>2</td>\n",
       "      <td>10080</td>\n",
       "      <td>0</td>\n",
       "      <td>2/6/2025</td>\n",
       "    </tr>\n",
       "    <tr>\n",
       "      <th>13</th>\n",
       "      <td>1014</td>\n",
       "      <td>Bird S1130</td>\n",
       "      <td>Bird</td>\n",
       "      <td>5</td>\n",
       "      <td>7381</td>\n",
       "      <td>0</td>\n",
       "      <td>7/5/2024</td>\n",
       "    </tr>\n",
       "    <tr>\n",
       "      <th>14</th>\n",
       "      <td>1015</td>\n",
       "      <td>Microsoft Kin One</td>\n",
       "      <td>Microsoft</td>\n",
       "      <td>2</td>\n",
       "      <td>5560</td>\n",
       "      <td>0</td>\n",
       "      <td>12/7/2024</td>\n",
       "    </tr>\n",
       "    <tr>\n",
       "      <th>15</th>\n",
       "      <td>1016</td>\n",
       "      <td>verykool i410</td>\n",
       "      <td>verykool</td>\n",
       "      <td>4</td>\n",
       "      <td>7063</td>\n",
       "      <td>0</td>\n",
       "      <td>12/30/2024</td>\n",
       "    </tr>\n",
       "    <tr>\n",
       "      <th>16</th>\n",
       "      <td>1017</td>\n",
       "      <td>Nokia 3720 classic</td>\n",
       "      <td>Nokia</td>\n",
       "      <td>5</td>\n",
       "      <td>5974</td>\n",
       "      <td>0</td>\n",
       "      <td>5/3/2024</td>\n",
       "    </tr>\n",
       "    <tr>\n",
       "      <th>17</th>\n",
       "      <td>1018</td>\n",
       "      <td>BLU Samba Mini</td>\n",
       "      <td>BLU</td>\n",
       "      <td>3</td>\n",
       "      <td>5928</td>\n",
       "      <td>0</td>\n",
       "      <td>8/25/2024</td>\n",
       "    </tr>\n",
       "    <tr>\n",
       "      <th>18</th>\n",
       "      <td>1019</td>\n",
       "      <td>Motorola V188</td>\n",
       "      <td>Motorola</td>\n",
       "      <td>2</td>\n",
       "      <td>2051</td>\n",
       "      <td>0</td>\n",
       "      <td>1/17/2025</td>\n",
       "    </tr>\n",
       "    <tr>\n",
       "      <th>19</th>\n",
       "      <td>1020</td>\n",
       "      <td>LG G Vista</td>\n",
       "      <td>LG</td>\n",
       "      <td>3</td>\n",
       "      <td>5140</td>\n",
       "      <td>0</td>\n",
       "      <td>2/14/2024</td>\n",
       "    </tr>\n",
       "  </tbody>\n",
       "</table>\n",
       "</div>"
      ],
      "text/plain": [
       "    order_id                         product   Category  Quantity  Price  \\\n",
       "0       1001                        LG KP130         LG         3   2698   \n",
       "1       1002                      Celkon C99     Celkon         3  10219   \n",
       "2       1003                   Panasonic X88  Panasonic         1  11735   \n",
       "3       1004         Samsung M6710 Beat DISC    Samsung         3   6839   \n",
       "4       1005                        Realme 5     Realme         4   7712   \n",
       "5       1006   Samsung Galaxy S4 mini I9195I    Samsung         4   9462   \n",
       "6       1007  Samsung Galaxy Xcover FieldPro    Samsung         2  10262   \n",
       "7       1008                        LG G7120         LG         5   8026   \n",
       "8       1009                     XOLO One HD       XOLO         1   8993   \n",
       "9       1010               Yezz Billy 5S LTE       Yezz         3   2497   \n",
       "10      1011                    verykool R80   verykool         3   6824   \n",
       "11      1012                      Nokia 1209      Nokia         2   9333   \n",
       "12      1013                  alcatel OT 355    alcatel         2  10080   \n",
       "13      1014                      Bird S1130       Bird         5   7381   \n",
       "14      1015               Microsoft Kin One  Microsoft         2   5560   \n",
       "15      1016                   verykool i410   verykool         4   7063   \n",
       "16      1017              Nokia 3720 classic      Nokia         5   5974   \n",
       "17      1018                  BLU Samba Mini        BLU         3   5928   \n",
       "18      1019                   Motorola V188   Motorola         2   2051   \n",
       "19      1020                      LG G Vista         LG         3   5140   \n",
       "\n",
       "    Total_Amount        Date  \n",
       "0              0   5/28/2024  \n",
       "1              0   2/20/2024  \n",
       "2              0   1/30/2025  \n",
       "3              0    2/7/2025  \n",
       "4              0   4/28/2024  \n",
       "5              0   4/21/2024  \n",
       "6              0    5/1/2024  \n",
       "7              0  10/26/2024  \n",
       "8              0   1/21/2025  \n",
       "9              0    8/8/2024  \n",
       "10             0   1/31/2025  \n",
       "11             0   9/17/2024  \n",
       "12             0    2/6/2025  \n",
       "13             0    7/5/2024  \n",
       "14             0   12/7/2024  \n",
       "15             0  12/30/2024  \n",
       "16             0    5/3/2024  \n",
       "17             0   8/25/2024  \n",
       "18             0   1/17/2025  \n",
       "19             0   2/14/2024  "
      ]
     },
     "execution_count": 32,
     "metadata": {},
     "output_type": "execute_result"
    }
   ],
   "source": [
    "df.fillna(0)"
   ]
  },
  {
   "cell_type": "code",
   "execution_count": 33,
   "id": "e0068b4b-c3e6-4c41-ba2b-dbf63a06f9a3",
   "metadata": {},
   "outputs": [
    {
     "data": {
      "text/plain": [
       "str"
      ]
     },
     "execution_count": 33,
     "metadata": {},
     "output_type": "execute_result"
    }
   ],
   "source": [
    "type(\"hello\")"
   ]
  },
  {
   "cell_type": "code",
   "execution_count": 34,
   "id": "32367af6-182e-4894-a17a-a29f756a8e71",
   "metadata": {},
   "outputs": [
    {
     "name": "stdout",
     "output_type": "stream",
     "text": [
      "Outliers: [100]\n"
     ]
    }
   ],
   "source": [
    "import numpy as np\n",
    "data=np.array([10,12,14,15,18,21,25,100])\n",
    "Q1=np.percentile(data,25)\n",
    "Q3=np.percentile(data,75)\n",
    "IQR=Q3-Q1\n",
    "lower_bound=Q1-1.5*IQR\n",
    "upper_bound=Q3+1.5*IQR\n",
    "outliers=data[(data<lower_bound)|(data>upper_bound)]\n",
    "print(\"Outliers:\",outliers)"
   ]
  },
  {
   "cell_type": "code",
   "execution_count": null,
   "id": "d30d9933-1880-477a-95ba-c24a8480a311",
   "metadata": {},
   "outputs": [],
   "source": []
  }
 ],
 "metadata": {
  "kernelspec": {
   "display_name": "Python 3 (ipykernel)",
   "language": "python",
   "name": "python3"
  },
  "language_info": {
   "codemirror_mode": {
    "name": "ipython",
    "version": 3
   },
   "file_extension": ".py",
   "mimetype": "text/x-python",
   "name": "python",
   "nbconvert_exporter": "python",
   "pygments_lexer": "ipython3",
   "version": "3.13.2"
  }
 },
 "nbformat": 4,
 "nbformat_minor": 5
}
