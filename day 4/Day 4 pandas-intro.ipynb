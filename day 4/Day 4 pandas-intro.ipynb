{
 "cells": [
  {
   "cell_type": "code",
   "execution_count": 1,
   "id": "165abb6b-9696-4a10-b832-a52cbbf22fe7",
   "metadata": {},
   "outputs": [
    {
     "name": "stdout",
     "output_type": "stream",
     "text": [
      "version:  2.2.3\n"
     ]
    }
   ],
   "source": [
    "import pandas as pd\n",
    "print('version: ',pd.__version__)"
   ]
  },
  {
   "cell_type": "code",
   "execution_count": 3,
   "id": "89cbec23-8691-47ed-b5fd-97c1ff3d82a4",
   "metadata": {},
   "outputs": [
    {
     "name": "stdout",
     "output_type": "stream",
     "text": [
      "0     1\n",
      "1     2\n",
      "2     5\n",
      "3    78\n",
      "4    45\n",
      "dtype: int64\n",
      "78\n"
     ]
    }
   ],
   "source": [
    "import pandas as pd\n",
    "list=[1,2,5,78,45]\n",
    "myseries=pd.Series(list)\n",
    "print(myseries)\n",
    "print(myseries[3])"
   ]
  },
  {
   "cell_type": "code",
   "execution_count": 7,
   "id": "4f825d04-4583-4402-9a09-52179ac3574b",
   "metadata": {},
   "outputs": [
    {
     "name": "stdout",
     "output_type": "stream",
     "text": [
      "a    1\n",
      "b    4\n",
      "c    6\n",
      "d    8\n",
      "dtype: int64\n",
      "4\n"
     ]
    }
   ],
   "source": [
    "import pandas as pd\n",
    "a=[1,4,6,8]\n",
    "myvar=pd.Series(a,index=[\"a\",\"b\",\"c\",\"d\"])\n",
    "print(myvar)\n",
    "print(myvar['b'])"
   ]
  },
  {
   "cell_type": "code",
   "execution_count": 12,
   "id": "ce9c42ef-a9cb-4c1c-b581-d644997077d8",
   "metadata": {},
   "outputs": [
    {
     "name": "stdout",
     "output_type": "stream",
     "text": [
      "id                           1\n",
      "name                  VinuthaG\n",
      "email        vinutha@gmail.com\n",
      "address                Ballari\n",
      "salary     8749823759870938145\n",
      "dtype: object\n",
      "id 1\n",
      "name VinuthaG\n",
      "email vinutha@gmail.com\n",
      "address Ballari\n",
      "salary 8749823759870938145\n"
     ]
    }
   ],
   "source": [
    "employee={\n",
    "    \"id\":1,\n",
    "    \"name\":\"VinuthaG\",\n",
    "    \"email\":\"vinutha@gmail.com\",\n",
    "    \"address\":\"Ballari\",\n",
    "    \"salary\":8749823759870938145\n",
    "}\n",
    "data=pd.Series(employee)\n",
    "print(data)\n",
    "print(\"id\",data[\"id\"])\n",
    "print(\"name\",data[\"name\"])\n",
    "print(\"email\",data[\"email\"])\n",
    "print(\"address\",data[\"address\"])\n",
    "print(\"salary\",data[\"salary\"])"
   ]
  },
  {
   "cell_type": "code",
   "execution_count": 13,
   "id": "a1bb32a7-fa2f-4ad6-8e61-1d89ceaf957a",
   "metadata": {},
   "outputs": [
    {
     "name": "stdout",
     "output_type": "stream",
     "text": [
      "      Name  Age     City\n",
      "0    Alice   25      nyc\n",
      "1      Bob   30       la\n",
      "2  Charlie   35  Chocago\n"
     ]
    }
   ],
   "source": [
    "data={\n",
    "    \"Name\":[\"Alice\",\"Bob\",\"Charlie\"],\n",
    "    \"Age\":[25,30,35],\n",
    "    \"City\":[\"nyc\",\"la\",\"Chocago\"]\n",
    "}\n",
    "df=pd.DataFrame(data)\n",
    "print(df)"
   ]
  },
  {
   "cell_type": "code",
   "execution_count": 14,
   "id": "82c96684-77dd-4057-a954-22847928b4ab",
   "metadata": {},
   "outputs": [
    {
     "name": "stdout",
     "output_type": "stream",
     "text": [
      "      Name  Age     City\n",
      "0    Alice   25      nyc\n",
      "1      Bob   30       la\n",
      "2  Charlie   35  Chocago\n",
      "FirstRow:\n",
      "Name    Alice\n",
      "Age        25\n",
      "City      nyc\n",
      "Name: 0, dtype: object\n",
      "    Name  Age City\n",
      "0  Alice   25  nyc\n",
      "1    Bob   30   la\n"
     ]
    }
   ],
   "source": [
    "data={\n",
    "    \"Name\":[\"Alice\",\"Bob\",\"Charlie\"],\n",
    "    \"Age\":[25,30,35],\n",
    "    \"City\":[\"nyc\",\"la\",\"Chocago\"]\n",
    "}\n",
    "myvar=pd.DataFrame(data)\n",
    "print(myvar)\n",
    "print(\"FirstRow:\")\n",
    "print(myvar.loc[0])\n",
    "print(myvar.loc[[0,1]])"
   ]
  },
  {
   "cell_type": "code",
   "execution_count": 15,
   "id": "6a18f3af-7911-42b6-986f-8812966fc601",
   "metadata": {},
   "outputs": [
    {
     "name": "stdout",
     "output_type": "stream",
     "text": [
      "id      1\n",
      "name    A\n",
      "Name: 0, dtype: object\n",
      "A\n",
      "   id name\n",
      "0   1    A\n",
      "1   2    B\n"
     ]
    }
   ],
   "source": [
    "sample={\n",
    "    \"id\":[1,2,3,4],\n",
    "    \"name\":[\"A\",\"B\",\"C\",\"D\"]\n",
    "}\n",
    "df = pd.DataFrame(sample)\n",
    "print(df.loc[0])\n",
    "print(df.iloc[0,1])\n",
    "print(df.loc[[0,1]])"
   ]
  },
  {
   "cell_type": "code",
   "execution_count": 16,
   "id": "aec1617a-fd08-4879-b186-326c33468097",
   "metadata": {},
   "outputs": [
    {
     "name": "stdout",
     "output_type": "stream",
     "text": [
      "   id name\n",
      "0   1    A\n",
      "3   4    D\n"
     ]
    }
   ],
   "source": [
    "print(df.loc[[0,3]])"
   ]
  },
  {
   "cell_type": "code",
   "execution_count": 17,
   "id": "17311a74-86aa-4160-915c-d1403a212cdb",
   "metadata": {},
   "outputs": [
    {
     "name": "stdout",
     "output_type": "stream",
     "text": [
      "Name    Charlie\n",
      "Age          35\n",
      "Name: user3, dtype: object\n",
      "          Name  Age\n",
      "user1    Alice   25\n",
      "user2      Bob   30\n",
      "user3  Charlie   35\n"
     ]
    }
   ],
   "source": [
    "user_data={\n",
    "    \"Name\":[\"Alice\",\"Bob\",\"Charlie\"],\n",
    "    \"Age\":[25,30,35]\n",
    "}\n",
    "df1=pd.DataFrame(user_data,index=[\"user1\",\"user2\",\"user3\"])\n",
    "print(df1.loc[\"user3\"])\n",
    "print(df1)"
   ]
  },
  {
   "cell_type": "code",
   "execution_count": 19,
   "id": "51a67079-39ae-4804-a3da-d5c3a4c72a13",
   "metadata": {},
   "outputs": [
    {
     "name": "stdout",
     "output_type": "stream",
     "text": [
      "      Name  Address  Age\n",
      "0    Alice  ballari   25\n",
      "1      Bob   mysore   30\n",
      "2  Charlie     beng   35\n"
     ]
    }
   ],
   "source": [
    "user_data={\n",
    "    \"Age\":[25,30,35],\n",
    "    \"Name\":[\"Alice\",\"Bob\",\"Charlie\"],\n",
    "    \"Address\":[\"ballari\",\"mysore\",\"beng\"]\n",
    "}\n",
    "df1=pd.DataFrame(user_data,columns=[\"Name\",\"Address\",\"Age\"])\n",
    "print(df1)"
   ]
  },
  {
   "cell_type": "code",
   "execution_count": 20,
   "id": "99ab238b-5f0c-48f7-ba31-bb3291b77116",
   "metadata": {},
   "outputs": [
    {
     "name": "stdin",
     "output_type": "stream",
     "text": [
      "Enter name:  vinutha\n",
      "Enter age:  23\n",
      "Enter salary:  2897298347\n",
      "Enter email:  vinitha@gmail.com\n"
     ]
    },
    {
     "name": "stdout",
     "output_type": "stream",
     "text": [
      "      name  age              email      salary\n",
      "0     alex   23     alex@gmail.com       54678\n",
      "1    catty   24      cat@gmail.com       56789\n",
      "2      bob   23      bob@gmail.com       98765\n",
      "3  vinutha   23  vinitha@gmail.com  2897298347\n"
     ]
    }
   ],
   "source": [
    "import pandas as pd\n",
    " \n",
    "# Function to get user input\n",
    "def get_user_input():\n",
    "    name = input(\"Enter name: \")\n",
    "    age = int(input(\"Enter age: \"))\n",
    "    salary = int(input(\"Enter salary: \"))\n",
    "    email = input(\"Enter email: \")\n",
    "    return {\"name\": name, \"age\": age, \"salary\": salary, \"email\": email}\n",
    " \n",
    "# Initial data\n",
    "user_data = {\n",
    "    \"name\": [\"alex\", \"catty\", \"bob\"],\n",
    "    \"age\": [23, 24, 23],\n",
    "    \"salary\": [54678, 56789, 98765],\n",
    "    \"email\": [\"alex@gmail.com\", \"cat@gmail.com\", \"bob@gmail.com\"]\n",
    "}\n",
    " \n",
    "# Get new user input\n",
    "new_user = get_user_input()\n",
    " \n",
    "# Append new user data to the existing data\n",
    "for key in user_data:\n",
    "    user_data[key].append(new_user[key])\n",
    " \n",
    "# Create DataFrame\n",
    "df1 = pd.DataFrame(user_data, columns=[\"name\", \"age\", \"email\", \"salary\"])\n",
    "print(df1)"
   ]
  },
  {
   "cell_type": "code",
   "execution_count": 23,
   "id": "aad5d476-6b07-4eff-a82e-9a4ffdcc609d",
   "metadata": {},
   "outputs": [
    {
     "name": "stdout",
     "output_type": "stream",
     "text": [
      "       Name  Age         city\n",
      "0     Alice   25      ballari\n",
      "1   vinutha   22       mysore\n",
      "2  chandana   21  pandavapura\n"
     ]
    }
   ],
   "source": [
    "user_data=[\n",
    "    [\"Alice\",25,\"ballari\"],\n",
    "    [\"vinutha\",22,\"mysore\"],\n",
    "    [\"chandana\",21,\"pandavapura\"]\n",
    "]\n",
    "df1=pd.DataFrame(user_data,columns=[\"Name\",\"Age\",\"city\"])\n",
    "print(df1)"
   ]
  },
  {
   "cell_type": "code",
   "execution_count": 25,
   "id": "79de5b49-1649-4764-8441-2594f87ae458",
   "metadata": {},
   "outputs": [
    {
     "name": "stdout",
     "output_type": "stream",
     "text": [
      "     id               name                          email  gender  ip_address\n",
      "0     1     Dominic Alwell         dalwell0@moonfruit.com    Male          10\n",
      "1     2       Pascal Ladel                  pladel1@51.la    Male           6\n",
      "2     3       Gaby Chidler             gchidler2@admin.ch  Female           5\n",
      "3     4      Craig Stirley  cstirley3@acquirethisname.com    Male           5\n",
      "4     5  Charline McFadyen         cmcfadyen4@nytimes.com  Female          10\n",
      "..  ...                ...                            ...     ...         ...\n",
      "95   96      Husain Briers        hbriers2n@blinklist.com    Male           4\n",
      "96   97     Alameda Delves             adelves2o@nasa.gov  Female           7\n",
      "97   98   Rochette O'Devey        rodevey2p@indiegogo.com  Female           3\n",
      "98   99         Porty Adin              padin2q@google.pl    Male           2\n",
      "99  100      Lilly Hartles             lhartles2r@usa.gov  Female           4\n",
      "\n",
      "[100 rows x 5 columns]\n"
     ]
    }
   ],
   "source": [
    "student_data=pd.read_csv('student_data.csv')\n",
    "print(student_data)"
   ]
  },
  {
   "cell_type": "code",
   "execution_count": 29,
   "id": "f67d9057-7649-4b20-8da9-798ca3fd711d",
   "metadata": {},
   "outputs": [
    {
     "data": {
      "text/html": [
       "<div>\n",
       "<style scoped>\n",
       "    .dataframe tbody tr th:only-of-type {\n",
       "        vertical-align: middle;\n",
       "    }\n",
       "\n",
       "    .dataframe tbody tr th {\n",
       "        vertical-align: top;\n",
       "    }\n",
       "\n",
       "    .dataframe thead th {\n",
       "        text-align: right;\n",
       "    }\n",
       "</style>\n",
       "<table border=\"1\" class=\"dataframe\">\n",
       "  <thead>\n",
       "    <tr style=\"text-align: right;\">\n",
       "      <th></th>\n",
       "      <th>id</th>\n",
       "      <th>name</th>\n",
       "      <th>email</th>\n",
       "      <th>gender</th>\n",
       "      <th>ip_address</th>\n",
       "    </tr>\n",
       "  </thead>\n",
       "  <tbody>\n",
       "    <tr>\n",
       "      <th>0</th>\n",
       "      <td>1</td>\n",
       "      <td>Dominic Alwell</td>\n",
       "      <td>dalwell0@moonfruit.com</td>\n",
       "      <td>Male</td>\n",
       "      <td>10</td>\n",
       "    </tr>\n",
       "    <tr>\n",
       "      <th>1</th>\n",
       "      <td>2</td>\n",
       "      <td>Pascal Ladel</td>\n",
       "      <td>pladel1@51.la</td>\n",
       "      <td>Male</td>\n",
       "      <td>6</td>\n",
       "    </tr>\n",
       "    <tr>\n",
       "      <th>2</th>\n",
       "      <td>3</td>\n",
       "      <td>Gaby Chidler</td>\n",
       "      <td>gchidler2@admin.ch</td>\n",
       "      <td>Female</td>\n",
       "      <td>5</td>\n",
       "    </tr>\n",
       "    <tr>\n",
       "      <th>3</th>\n",
       "      <td>4</td>\n",
       "      <td>Craig Stirley</td>\n",
       "      <td>cstirley3@acquirethisname.com</td>\n",
       "      <td>Male</td>\n",
       "      <td>5</td>\n",
       "    </tr>\n",
       "    <tr>\n",
       "      <th>4</th>\n",
       "      <td>5</td>\n",
       "      <td>Charline McFadyen</td>\n",
       "      <td>cmcfadyen4@nytimes.com</td>\n",
       "      <td>Female</td>\n",
       "      <td>10</td>\n",
       "    </tr>\n",
       "  </tbody>\n",
       "</table>\n",
       "</div>"
      ],
      "text/plain": [
       "   id               name                          email  gender  ip_address\n",
       "0   1     Dominic Alwell         dalwell0@moonfruit.com    Male          10\n",
       "1   2       Pascal Ladel                  pladel1@51.la    Male           6\n",
       "2   3       Gaby Chidler             gchidler2@admin.ch  Female           5\n",
       "3   4      Craig Stirley  cstirley3@acquirethisname.com    Male           5\n",
       "4   5  Charline McFadyen         cmcfadyen4@nytimes.com  Female          10"
      ]
     },
     "execution_count": 29,
     "metadata": {},
     "output_type": "execute_result"
    }
   ],
   "source": [
    "student_data.head()\n",
    "# print(student_data.head())"
   ]
  },
  {
   "cell_type": "code",
   "execution_count": 30,
   "id": "53e7db98-a508-4ef6-b551-dbe2d457371d",
   "metadata": {},
   "outputs": [
    {
     "name": "stdout",
     "output_type": "stream",
     "text": [
      "     id                 name                                email       gender  ip_address\n",
      "0     1       Dominic Alwell               dalwell0@moonfruit.com         Male          10\n",
      "1     2         Pascal Ladel                        pladel1@51.la         Male           6\n",
      "2     3         Gaby Chidler                   gchidler2@admin.ch       Female           5\n",
      "3     4        Craig Stirley        cstirley3@acquirethisname.com         Male           5\n",
      "4     5    Charline McFadyen               cmcfadyen4@nytimes.com       Female          10\n",
      "5     6     Kerrill Toseland            ktoseland5@bravesites.com       Female           5\n",
      "6     7            Loria Alp                     lalp6@ustream.tv       Female           4\n",
      "7     8       Harper Nickels               hnickels7@yolasite.com         Male           5\n",
      "8     9          Corbie Macy                    cmacy8@sbwire.com         Male           7\n",
      "9    10  Lauraine MacAnespie           lmacanespie9@angelfire.com       Female           1\n",
      "10   11      Gipsy Sictornes           gsictornesa@shutterfly.com     Bigender           3\n",
      "11   12        Loydie Nestor                     lnestorb@cmu.edu         Male           3\n",
      "12   13       Nolana Huncote              nhuncotec@google.com.hk       Female           6\n",
      "13   14         Hodge Loffel                  hloffeld@census.gov         Male           8\n",
      "14   15         Zeb Witherop               zwitherope@t-online.de         Male           5\n",
      "15   16       Lexine Gonneau                    lgonneauf@nps.gov       Female          10\n",
      "16   17        Brittne Anger                    bangerg@wiley.com       Female           4\n",
      "17   18         Kyla Benditt                     kbenditth@si.edu       Female           7\n",
      "18   19       Brandea Latore               blatorei@clickbank.net       Female           5\n",
      "19   20        Elias Bubbear                 ebubbearj@paypal.com         Male          10\n",
      "20   21      Rochell Jullian                rjulliank@addthis.com       Female           4\n",
      "21   22  Nathalia Skelington            nskelingtonl@sakura.ne.jp       Female          10\n",
      "22   23       Giraldo Backen              gbackenm@technorati.com         Male           6\n",
      "23   24  Bartholomeus Bewley                 bbewleyn@yahoo.co.jp         Male           7\n",
      "24   25      Gilemette Belle              gbelleo@photobucket.com       Female           3\n",
      "25   26        Lorie Waldren          lwaldrenp@printfriendly.com       Female          10\n",
      "26   27    Marena Errichelli  merrichelliq@networkadvertising.org       Female           3\n",
      "27   28        Tyson Kunneke                  tkunneker@google.es         Male           3\n",
      "28   29      Teresina Posten                 tpostens@youtube.com       Female           3\n",
      "29   30     Christal Etchell                  cetchellt@prlog.org       Female           7\n",
      "30   31          Jude Keymer                   jkeymeru@globo.com         Male           1\n",
      "31   32          Alida Teare                     atearev@about.me       Female           9\n",
      "32   33      Prudi Binestead             pbinesteadw@e-recht24.de       Female           7\n",
      "33   34    Clair Hallyburton          challyburtonx@economist.com         Male           9\n",
      "34   35   Davita Fitzmaurice           dfitzmauricey@amazon.co.uk       Female           1\n",
      "35   36        Ryon Dodswell               rdodswellz@spotify.com         Male          10\n",
      "36   37          Sidney Bloy                    sbloy10@lycos.com         Male           6\n",
      "37   38       Terry Ranyelld                  tranyelld11@msu.edu         Male           2\n",
      "38   39     Shayna Schechter     sschechter12@businessinsider.com       Female           3\n",
      "39   40       Shem Antonazzi               santonazzi13@tmall.com         Male           9\n",
      "40   41        Tally Schustl              tschustl14@hatena.ne.jp         Male           4\n",
      "41   42    Steven Kolczynski        skolczynski15@livejournal.com         Male           5\n",
      "42   43   Federico MacGinlay                 fmacginlay16@cdc.gov         Male          10\n",
      "43   44       Iorgos Salamon                  isalamon17@ucla.edu         Male           4\n",
      "44   45         Jenn Guisler                    jguisler18@w3.org       Female           6\n",
      "45   46   Franciskus Fautley               ffautley19@weather.com         Male           4\n",
      "46   47        Reube Sillito                rsillito1a@sbwire.com         Male           6\n",
      "47   48       Marlo Leythley              mleythley1b@walmart.com         Male          10\n",
      "48   49        Price Sayward              psayward1c@netscape.com         Male           4\n",
      "49   50       Lindsy Snaddin                  lsnaddin1d@furl.net       Female          10\n",
      "50   51       Avigdor MacArd                amacard1e@walmart.com         Male           3\n",
      "51   52  Ursulina Le Pruvost                     ule1f@boston.com       Female           3\n",
      "52   53      Serene Tressler               stressler1g@uol.com.br       Female           7\n",
      "53   54      Kilian Bourdice                  kbourdice1h@last.fm         Male           2\n",
      "54   55     Samantha Brearty                 sbrearty1i@baidu.com       Female           7\n",
      "55   56        Rossy O' Lone                    ro1j@geocities.jp         Male           6\n",
      "56   57        Godfry Boyall             gboyall1k@washington.edu         Male           1\n",
      "57   58       Muffin Durrett               mdurrett1l@dedecms.com       Female           1\n",
      "58   59    Phillie O'Longain            polongain1m@123-reg.co.uk       Female           3\n",
      "59   60        Gilligan Pryn                      gpryn1n@fda.gov       Female           1\n",
      "60   61       Jerrome Dungey                     jdungey1o@360.cn         Male           4\n",
      "61   62     Adelina Levecque                  alevecque1p@bbb.org       Female           2\n",
      "62   63        Kaye Margetts                   kmargetts1q@qq.com       Female           2\n",
      "63   64            Gran Hune                ghune1r@xinhuanet.com         Male           8\n",
      "64   65      Grenville Otham                  gotham1s@census.gov         Male           1\n",
      "65   66         Abdel Seefus                aseefus1t@storify.com         Male           3\n",
      "66   67           Edd Meldon                emeldon1u@shop-pro.jp         Male           2\n",
      "67   68           Olin Faich                   ofaich1v@desdev.cn         Male           7\n",
      "68   69     Anastasie Farman             afarman1w@purevolume.com       Female          10\n",
      "69   70       Wayne Gheraldi             wgheraldi1x@netvibes.com         Male          10\n",
      "70   71        Barret Harwin              bharwin1y@cafepress.com         Male           6\n",
      "71   72        Prent Ladbury                pladbury1z@nature.com         Male           8\n",
      "72   73        Svend Le Guin                     sle20@reddit.com         Male          10\n",
      "73   74         Sile Whooley            swhooley21@purevolume.com       Female           1\n",
      "74   75       Keelby Colrein          kcolrein22@biblegateway.com         Male           6\n",
      "75   76     Doroteya Marquet               dmarquet23@oaic.gov.au       Female           5\n",
      "76   77          Burch Croll                bcroll24@japanpost.jp         Male           8\n",
      "77   78          Marys Jimes                  mjimes25@forbes.com       Female           1\n",
      "78   79     Modestine Gregan                mgregan26@oaic.gov.au       Female           4\n",
      "79   80          Abba Heakey                 aheakey27@boston.com         Male           4\n",
      "80   81       Hewet Lilliman          hlilliman28@istockphoto.com         Male           3\n",
      "81   82        Tripp Podbury             tpodbury29@123-reg.co.uk         Male           5\n",
      "82   83         Bail Wreakes               bwreakes2a@addthis.com         Male           1\n",
      "83   84        Dennet Borges                  dborges2b@google.nl         Male           2\n",
      "84   85        Sonnie Gayler           sgayler2c@businesswire.com       Female           3\n",
      "85   86         Licha Sacher                    lsacher2d@umn.edu       Female           2\n",
      "86   87          Jorie Mainz                     jmainz2e@gnu.org       Female          10\n",
      "87   88         Herold Jorck              hjorck2f@whitehouse.gov         Male           5\n",
      "88   89  Teirtza MacLoughlin      tmacloughlin2g@surveymonkey.com  Genderqueer          10\n",
      "89   90      Moyna Huskinson       mhuskinson2h@elegantthemes.com       Female           1\n",
      "90   91       Montague Sybry               msybry2i@amazonaws.com         Male           1\n",
      "91   92           Cloris Sor                   csor2j@sina.com.cn       Female           8\n",
      "92   93       Ashley Leghorn              aleghorn2k@gravatar.com       Female           9\n",
      "93   94        Verena Dannel            vdannel2l@studiopress.com       Female           2\n",
      "94   95      Stanton Gobolos                   sgobolos2m@mtv.com         Male           1\n",
      "95   96        Husain Briers              hbriers2n@blinklist.com         Male           4\n",
      "96   97       Alameda Delves                   adelves2o@nasa.gov       Female           7\n",
      "97   98     Rochette O'Devey              rodevey2p@indiegogo.com       Female           3\n",
      "98   99           Porty Adin                    padin2q@google.pl         Male           2\n",
      "99  100        Lilly Hartles                   lhartles2r@usa.gov       Female           4\n"
     ]
    }
   ],
   "source": [
    "print(student_data.to_string())"
   ]
  },
  {
   "cell_type": "code",
   "execution_count": 31,
   "id": "6e4e3d79-a4ed-4c38-b6b2-cef9468a88f7",
   "metadata": {},
   "outputs": [
    {
     "name": "stdout",
     "output_type": "stream",
     "text": [
      "   id            name                   email  gender  ip_address\n",
      "0   1  Dominic Alwell  dalwell0@moonfruit.com    Male          10\n",
      "1   2    Pascal Ladel           pladel1@51.la    Male           6\n",
      "2   3    Gaby Chidler      gchidler2@admin.ch  Female           5\n"
     ]
    }
   ],
   "source": [
    "print(student_data.head(3))"
   ]
  },
  {
   "cell_type": "code",
   "execution_count": 32,
   "id": "f3abaa4c-e15a-4f0b-b21e-d3b6c9710db5",
   "metadata": {},
   "outputs": [
    {
     "name": "stdout",
     "output_type": "stream",
     "text": [
      "     id              name                    email  gender  ip_address\n",
      "97   98  Rochette O'Devey  rodevey2p@indiegogo.com  Female           3\n",
      "98   99        Porty Adin        padin2q@google.pl    Male           2\n",
      "99  100     Lilly Hartles       lhartles2r@usa.gov  Female           4\n"
     ]
    }
   ],
   "source": [
    "print(student_data.tail(3))"
   ]
  },
  {
   "cell_type": "code",
   "execution_count": 34,
   "id": "9ee97420-ac0d-479f-b243-0b1270986a24",
   "metadata": {},
   "outputs": [
    {
     "name": "stdout",
     "output_type": "stream",
     "text": [
      "(100, 5)\n"
     ]
    }
   ],
   "source": [
    "print(student_data.shape)"
   ]
  },
  {
   "cell_type": "code",
   "execution_count": 36,
   "id": "eb351f31-9104-464d-b011-311dd558fde6",
   "metadata": {},
   "outputs": [
    {
     "name": "stdout",
     "output_type": "stream",
     "text": [
      "<class 'pandas.core.frame.DataFrame'>\n",
      "RangeIndex: 100 entries, 0 to 99\n",
      "Data columns (total 5 columns):\n",
      " #   Column      Non-Null Count  Dtype \n",
      "---  ------      --------------  ----- \n",
      " 0   id          100 non-null    int64 \n",
      " 1   name        100 non-null    object\n",
      " 2   email       100 non-null    object\n",
      " 3   gender      100 non-null    object\n",
      " 4   ip_address  100 non-null    int64 \n",
      "dtypes: int64(2), object(3)\n",
      "memory usage: 4.0+ KB\n",
      "None\n"
     ]
    }
   ],
   "source": [
    "print(student_data.info())"
   ]
  },
  {
   "cell_type": "code",
   "execution_count": 37,
   "id": "4b5bc7af-e3a1-42b6-8223-3cf00c43af1f",
   "metadata": {},
   "outputs": [
    {
     "data": {
      "text/html": [
       "<div>\n",
       "<style scoped>\n",
       "    .dataframe tbody tr th:only-of-type {\n",
       "        vertical-align: middle;\n",
       "    }\n",
       "\n",
       "    .dataframe tbody tr th {\n",
       "        vertical-align: top;\n",
       "    }\n",
       "\n",
       "    .dataframe thead th {\n",
       "        text-align: right;\n",
       "    }\n",
       "</style>\n",
       "<table border=\"1\" class=\"dataframe\">\n",
       "  <thead>\n",
       "    <tr style=\"text-align: right;\">\n",
       "      <th></th>\n",
       "      <th>id</th>\n",
       "      <th>ip_address</th>\n",
       "    </tr>\n",
       "  </thead>\n",
       "  <tbody>\n",
       "    <tr>\n",
       "      <th>count</th>\n",
       "      <td>100.000000</td>\n",
       "      <td>100.00000</td>\n",
       "    </tr>\n",
       "    <tr>\n",
       "      <th>mean</th>\n",
       "      <td>50.500000</td>\n",
       "      <td>5.14000</td>\n",
       "    </tr>\n",
       "    <tr>\n",
       "      <th>std</th>\n",
       "      <td>29.011492</td>\n",
       "      <td>2.98826</td>\n",
       "    </tr>\n",
       "    <tr>\n",
       "      <th>min</th>\n",
       "      <td>1.000000</td>\n",
       "      <td>1.00000</td>\n",
       "    </tr>\n",
       "    <tr>\n",
       "      <th>25%</th>\n",
       "      <td>25.750000</td>\n",
       "      <td>3.00000</td>\n",
       "    </tr>\n",
       "    <tr>\n",
       "      <th>50%</th>\n",
       "      <td>50.500000</td>\n",
       "      <td>5.00000</td>\n",
       "    </tr>\n",
       "    <tr>\n",
       "      <th>75%</th>\n",
       "      <td>75.250000</td>\n",
       "      <td>7.00000</td>\n",
       "    </tr>\n",
       "    <tr>\n",
       "      <th>max</th>\n",
       "      <td>100.000000</td>\n",
       "      <td>10.00000</td>\n",
       "    </tr>\n",
       "  </tbody>\n",
       "</table>\n",
       "</div>"
      ],
      "text/plain": [
       "               id  ip_address\n",
       "count  100.000000   100.00000\n",
       "mean    50.500000     5.14000\n",
       "std     29.011492     2.98826\n",
       "min      1.000000     1.00000\n",
       "25%     25.750000     3.00000\n",
       "50%     50.500000     5.00000\n",
       "75%     75.250000     7.00000\n",
       "max    100.000000    10.00000"
      ]
     },
     "execution_count": 37,
     "metadata": {},
     "output_type": "execute_result"
    }
   ],
   "source": [
    "student_data.describe()"
   ]
  },
  {
   "cell_type": "code",
   "execution_count": 38,
   "id": "54b240de-6856-4b93-80a9-9af68f5e3a78",
   "metadata": {},
   "outputs": [
    {
     "name": "stdout",
     "output_type": "stream",
     "text": [
      "               id  ip_address\n",
      "count  100.000000   100.00000\n",
      "mean    50.500000     5.14000\n",
      "std     29.011492     2.98826\n",
      "min      1.000000     1.00000\n",
      "25%     25.750000     3.00000\n",
      "50%     50.500000     5.00000\n",
      "75%     75.250000     7.00000\n",
      "max    100.000000    10.00000\n"
     ]
    }
   ],
   "source": [
    "print(student_data.describe())"
   ]
  },
  {
   "cell_type": "code",
   "execution_count": 40,
   "id": "ff97d07d-3c9a-4994-b1b4-5906735d399c",
   "metadata": {},
   "outputs": [
    {
     "data": {
      "text/html": [
       "<div>\n",
       "<style scoped>\n",
       "    .dataframe tbody tr th:only-of-type {\n",
       "        vertical-align: middle;\n",
       "    }\n",
       "\n",
       "    .dataframe tbody tr th {\n",
       "        vertical-align: top;\n",
       "    }\n",
       "\n",
       "    .dataframe thead th {\n",
       "        text-align: right;\n",
       "    }\n",
       "</style>\n",
       "<table border=\"1\" class=\"dataframe\">\n",
       "  <thead>\n",
       "    <tr style=\"text-align: right;\">\n",
       "      <th></th>\n",
       "      <th>id</th>\n",
       "      <th>name</th>\n",
       "      <th>email</th>\n",
       "    </tr>\n",
       "  </thead>\n",
       "  <tbody>\n",
       "    <tr>\n",
       "      <th>0</th>\n",
       "      <td>1</td>\n",
       "      <td>Dominic Alwell</td>\n",
       "      <td>dalwell0@moonfruit.com</td>\n",
       "    </tr>\n",
       "    <tr>\n",
       "      <th>1</th>\n",
       "      <td>2</td>\n",
       "      <td>Pascal Ladel</td>\n",
       "      <td>pladel1@51.la</td>\n",
       "    </tr>\n",
       "    <tr>\n",
       "      <th>2</th>\n",
       "      <td>3</td>\n",
       "      <td>Gaby Chidler</td>\n",
       "      <td>gchidler2@admin.ch</td>\n",
       "    </tr>\n",
       "    <tr>\n",
       "      <th>3</th>\n",
       "      <td>4</td>\n",
       "      <td>Craig Stirley</td>\n",
       "      <td>cstirley3@acquirethisname.com</td>\n",
       "    </tr>\n",
       "    <tr>\n",
       "      <th>4</th>\n",
       "      <td>5</td>\n",
       "      <td>Charline McFadyen</td>\n",
       "      <td>cmcfadyen4@nytimes.com</td>\n",
       "    </tr>\n",
       "  </tbody>\n",
       "</table>\n",
       "</div>"
      ],
      "text/plain": [
       "   id               name                          email\n",
       "0   1     Dominic Alwell         dalwell0@moonfruit.com\n",
       "1   2       Pascal Ladel                  pladel1@51.la\n",
       "2   3       Gaby Chidler             gchidler2@admin.ch\n",
       "3   4      Craig Stirley  cstirley3@acquirethisname.com\n",
       "4   5  Charline McFadyen         cmcfadyen4@nytimes.com"
      ]
     },
     "execution_count": 40,
     "metadata": {},
     "output_type": "execute_result"
    }
   ],
   "source": [
    "student_data[['id','name','email']].head()"
   ]
  },
  {
   "cell_type": "code",
   "execution_count": 41,
   "id": "8aa0217f-b27c-463d-b14d-eb7f6c5ac5f4",
   "metadata": {},
   "outputs": [
    {
     "data": {
      "text/plain": [
       "count      100\n",
       "unique       4\n",
       "top       Male\n",
       "freq        52\n",
       "Name: gender, dtype: object"
      ]
     },
     "execution_count": 41,
     "metadata": {},
     "output_type": "execute_result"
    }
   ],
   "source": [
    "student_data['gender'].describe()"
   ]
  },
  {
   "cell_type": "code",
   "execution_count": null,
   "id": "ce09d676-907c-4169-a292-27c0059f2c2e",
   "metadata": {},
   "outputs": [],
   "source": [
    "store=pd.read_csv('Store_data.csv)\n",
    "most_sold_product=store.groupby('Product')"
   ]
  },
  {
   "cell_type": "code",
   "execution_count": null,
   "id": "83c2afb5-093c-42aa-a50e-525b210a43fd",
   "metadata": {},
   "outputs": [],
   "source": []
  }
 ],
 "metadata": {
  "kernelspec": {
   "display_name": "Python 3 (ipykernel)",
   "language": "python",
   "name": "python3"
  },
  "language_info": {
   "codemirror_mode": {
    "name": "ipython",
    "version": 3
   },
   "file_extension": ".py",
   "mimetype": "text/x-python",
   "name": "python",
   "nbconvert_exporter": "python",
   "pygments_lexer": "ipython3",
   "version": "3.13.2"
  }
 },
 "nbformat": 4,
 "nbformat_minor": 5
}
