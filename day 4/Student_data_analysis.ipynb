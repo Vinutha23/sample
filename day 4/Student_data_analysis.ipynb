{
 "cells": [
  {
   "cell_type": "code",
   "execution_count": 1,
   "id": "c880e873-9cf5-4137-804e-72207a7c2dae",
   "metadata": {},
   "outputs": [
    {
     "name": "stdout",
     "output_type": "stream",
     "text": [
      "   student_id                Name  Math  Science  English  Total       Grade\n",
      "0           1    Izabel Geraldini     6       66        0     76       array\n",
      "1           2      Carri Gilcrist    67      100       58     83     Focused\n",
      "2           3       Osmund Staite    66       67       22     57  neural-net\n",
      "3           4  Mireielle Ghelardi    92       78       12     48        24/7\n",
      "4           5    Antonella Markel    37       67       80     61  systematic\n"
     ]
    }
   ],
   "source": [
    "import pandas as pd\n",
    "#Creating student dataframe by reading csv file\n",
    "df=pd.read_csv('Marks.csv')\n",
    "print(df.head())"
   ]
  },
  {
   "cell_type": "code",
   "execution_count": 4,
   "id": "0a418f77-aebf-4fbb-99ad-25076df4fa79",
   "metadata": {},
   "outputs": [
    {
     "data": {
      "text/html": [
       "<div>\n",
       "<style scoped>\n",
       "    .dataframe tbody tr th:only-of-type {\n",
       "        vertical-align: middle;\n",
       "    }\n",
       "\n",
       "    .dataframe tbody tr th {\n",
       "        vertical-align: top;\n",
       "    }\n",
       "\n",
       "    .dataframe thead th {\n",
       "        text-align: right;\n",
       "    }\n",
       "</style>\n",
       "<table border=\"1\" class=\"dataframe\">\n",
       "  <thead>\n",
       "    <tr style=\"text-align: right;\">\n",
       "      <th></th>\n",
       "      <th>student_id</th>\n",
       "      <th>Name</th>\n",
       "      <th>Math</th>\n",
       "      <th>Science</th>\n",
       "      <th>English</th>\n",
       "      <th>Total</th>\n",
       "      <th>Grade</th>\n",
       "    </tr>\n",
       "  </thead>\n",
       "  <tbody>\n",
       "    <tr>\n",
       "      <th>0</th>\n",
       "      <td>False</td>\n",
       "      <td>False</td>\n",
       "      <td>False</td>\n",
       "      <td>False</td>\n",
       "      <td>False</td>\n",
       "      <td>False</td>\n",
       "      <td>False</td>\n",
       "    </tr>\n",
       "    <tr>\n",
       "      <th>1</th>\n",
       "      <td>False</td>\n",
       "      <td>False</td>\n",
       "      <td>False</td>\n",
       "      <td>False</td>\n",
       "      <td>False</td>\n",
       "      <td>False</td>\n",
       "      <td>False</td>\n",
       "    </tr>\n",
       "    <tr>\n",
       "      <th>2</th>\n",
       "      <td>False</td>\n",
       "      <td>False</td>\n",
       "      <td>False</td>\n",
       "      <td>False</td>\n",
       "      <td>False</td>\n",
       "      <td>False</td>\n",
       "      <td>False</td>\n",
       "    </tr>\n",
       "    <tr>\n",
       "      <th>3</th>\n",
       "      <td>False</td>\n",
       "      <td>False</td>\n",
       "      <td>False</td>\n",
       "      <td>False</td>\n",
       "      <td>False</td>\n",
       "      <td>False</td>\n",
       "      <td>False</td>\n",
       "    </tr>\n",
       "    <tr>\n",
       "      <th>4</th>\n",
       "      <td>False</td>\n",
       "      <td>False</td>\n",
       "      <td>False</td>\n",
       "      <td>False</td>\n",
       "      <td>False</td>\n",
       "      <td>False</td>\n",
       "      <td>False</td>\n",
       "    </tr>\n",
       "    <tr>\n",
       "      <th>...</th>\n",
       "      <td>...</td>\n",
       "      <td>...</td>\n",
       "      <td>...</td>\n",
       "      <td>...</td>\n",
       "      <td>...</td>\n",
       "      <td>...</td>\n",
       "      <td>...</td>\n",
       "    </tr>\n",
       "    <tr>\n",
       "      <th>95</th>\n",
       "      <td>False</td>\n",
       "      <td>False</td>\n",
       "      <td>False</td>\n",
       "      <td>False</td>\n",
       "      <td>False</td>\n",
       "      <td>False</td>\n",
       "      <td>False</td>\n",
       "    </tr>\n",
       "    <tr>\n",
       "      <th>96</th>\n",
       "      <td>False</td>\n",
       "      <td>False</td>\n",
       "      <td>False</td>\n",
       "      <td>False</td>\n",
       "      <td>False</td>\n",
       "      <td>False</td>\n",
       "      <td>False</td>\n",
       "    </tr>\n",
       "    <tr>\n",
       "      <th>97</th>\n",
       "      <td>False</td>\n",
       "      <td>False</td>\n",
       "      <td>False</td>\n",
       "      <td>False</td>\n",
       "      <td>False</td>\n",
       "      <td>False</td>\n",
       "      <td>False</td>\n",
       "    </tr>\n",
       "    <tr>\n",
       "      <th>98</th>\n",
       "      <td>False</td>\n",
       "      <td>False</td>\n",
       "      <td>False</td>\n",
       "      <td>False</td>\n",
       "      <td>False</td>\n",
       "      <td>False</td>\n",
       "      <td>False</td>\n",
       "    </tr>\n",
       "    <tr>\n",
       "      <th>99</th>\n",
       "      <td>False</td>\n",
       "      <td>False</td>\n",
       "      <td>False</td>\n",
       "      <td>False</td>\n",
       "      <td>False</td>\n",
       "      <td>False</td>\n",
       "      <td>False</td>\n",
       "    </tr>\n",
       "  </tbody>\n",
       "</table>\n",
       "<p>100 rows × 7 columns</p>\n",
       "</div>"
      ],
      "text/plain": [
       "    student_id   Name   Math  Science  English  Total  Grade\n",
       "0        False  False  False    False    False  False  False\n",
       "1        False  False  False    False    False  False  False\n",
       "2        False  False  False    False    False  False  False\n",
       "3        False  False  False    False    False  False  False\n",
       "4        False  False  False    False    False  False  False\n",
       "..         ...    ...    ...      ...      ...    ...    ...\n",
       "95       False  False  False    False    False  False  False\n",
       "96       False  False  False    False    False  False  False\n",
       "97       False  False  False    False    False  False  False\n",
       "98       False  False  False    False    False  False  False\n",
       "99       False  False  False    False    False  False  False\n",
       "\n",
       "[100 rows x 7 columns]"
      ]
     },
     "execution_count": 4,
     "metadata": {},
     "output_type": "execute_result"
    }
   ],
   "source": [
    "df.isna()"
   ]
  },
  {
   "cell_type": "code",
   "execution_count": 5,
   "id": "82a929e8-8544-44f9-8532-2e8dea74842e",
   "metadata": {},
   "outputs": [
    {
     "data": {
      "text/html": [
       "<div>\n",
       "<style scoped>\n",
       "    .dataframe tbody tr th:only-of-type {\n",
       "        vertical-align: middle;\n",
       "    }\n",
       "\n",
       "    .dataframe tbody tr th {\n",
       "        vertical-align: top;\n",
       "    }\n",
       "\n",
       "    .dataframe thead th {\n",
       "        text-align: right;\n",
       "    }\n",
       "</style>\n",
       "<table border=\"1\" class=\"dataframe\">\n",
       "  <thead>\n",
       "    <tr style=\"text-align: right;\">\n",
       "      <th></th>\n",
       "      <th>Name</th>\n",
       "      <th>Math</th>\n",
       "      <th>Science</th>\n",
       "      <th>English</th>\n",
       "      <th>Total</th>\n",
       "    </tr>\n",
       "  </thead>\n",
       "  <tbody>\n",
       "    <tr>\n",
       "      <th>0</th>\n",
       "      <td>Izabel Geraldini</td>\n",
       "      <td>6</td>\n",
       "      <td>66</td>\n",
       "      <td>0</td>\n",
       "      <td>72</td>\n",
       "    </tr>\n",
       "    <tr>\n",
       "      <th>1</th>\n",
       "      <td>Carri Gilcrist</td>\n",
       "      <td>67</td>\n",
       "      <td>100</td>\n",
       "      <td>58</td>\n",
       "      <td>225</td>\n",
       "    </tr>\n",
       "    <tr>\n",
       "      <th>2</th>\n",
       "      <td>Osmund Staite</td>\n",
       "      <td>66</td>\n",
       "      <td>67</td>\n",
       "      <td>22</td>\n",
       "      <td>155</td>\n",
       "    </tr>\n",
       "    <tr>\n",
       "      <th>3</th>\n",
       "      <td>Mireielle Ghelardi</td>\n",
       "      <td>92</td>\n",
       "      <td>78</td>\n",
       "      <td>12</td>\n",
       "      <td>182</td>\n",
       "    </tr>\n",
       "    <tr>\n",
       "      <th>4</th>\n",
       "      <td>Antonella Markel</td>\n",
       "      <td>37</td>\n",
       "      <td>67</td>\n",
       "      <td>80</td>\n",
       "      <td>184</td>\n",
       "    </tr>\n",
       "  </tbody>\n",
       "</table>\n",
       "</div>"
      ],
      "text/plain": [
       "                 Name  Math  Science  English  Total\n",
       "0    Izabel Geraldini     6       66        0     72\n",
       "1      Carri Gilcrist    67      100       58    225\n",
       "2       Osmund Staite    66       67       22    155\n",
       "3  Mireielle Ghelardi    92       78       12    182\n",
       "4    Antonella Markel    37       67       80    184"
      ]
     },
     "execution_count": 5,
     "metadata": {},
     "output_type": "execute_result"
    }
   ],
   "source": [
    "df['Total']=df[['Math','Science','English']].sum(axis=1)\n",
    "df[['Name','Math','Science','English','Total']].head()"
   ]
  },
  {
   "cell_type": "code",
   "execution_count": 16,
   "id": "c65eca32-46b7-46f4-b9ca-1f80ec617d33",
   "metadata": {},
   "outputs": [],
   "source": [
    "def assign_grade(total):\n",
    "    if total>=250:\n",
    "        return 'A'\n",
    "    elif total >= 200:\n",
    "        return 'B'\n",
    "    elif total>=150:\n",
    "        return 'C'\n",
    "    else:\n",
    "        return 'D'"
   ]
  },
  {
   "cell_type": "code",
   "execution_count": 17,
   "id": "10fa27be-f811-4685-ae94-b9721ef4aad9",
   "metadata": {},
   "outputs": [
    {
     "data": {
      "text/html": [
       "<div>\n",
       "<style scoped>\n",
       "    .dataframe tbody tr th:only-of-type {\n",
       "        vertical-align: middle;\n",
       "    }\n",
       "\n",
       "    .dataframe tbody tr th {\n",
       "        vertical-align: top;\n",
       "    }\n",
       "\n",
       "    .dataframe thead th {\n",
       "        text-align: right;\n",
       "    }\n",
       "</style>\n",
       "<table border=\"1\" class=\"dataframe\">\n",
       "  <thead>\n",
       "    <tr style=\"text-align: right;\">\n",
       "      <th></th>\n",
       "      <th>Name</th>\n",
       "      <th>Total</th>\n",
       "      <th>Grade</th>\n",
       "    </tr>\n",
       "  </thead>\n",
       "  <tbody>\n",
       "    <tr>\n",
       "      <th>95</th>\n",
       "      <td>Karrie Hartwright</td>\n",
       "      <td>120</td>\n",
       "      <td>Horizontal</td>\n",
       "    </tr>\n",
       "    <tr>\n",
       "      <th>96</th>\n",
       "      <td>Floyd Tofanini</td>\n",
       "      <td>125</td>\n",
       "      <td>Organic</td>\n",
       "    </tr>\n",
       "    <tr>\n",
       "      <th>97</th>\n",
       "      <td>Antin Roswarne</td>\n",
       "      <td>232</td>\n",
       "      <td>data-warehouse</td>\n",
       "    </tr>\n",
       "    <tr>\n",
       "      <th>98</th>\n",
       "      <td>Chen Glewe</td>\n",
       "      <td>133</td>\n",
       "      <td>open architecture</td>\n",
       "    </tr>\n",
       "    <tr>\n",
       "      <th>99</th>\n",
       "      <td>Corey Comino</td>\n",
       "      <td>164</td>\n",
       "      <td>protocol</td>\n",
       "    </tr>\n",
       "  </tbody>\n",
       "</table>\n",
       "</div>"
      ],
      "text/plain": [
       "                 Name  Total              Grade\n",
       "95  Karrie Hartwright    120         Horizontal\n",
       "96     Floyd Tofanini    125            Organic\n",
       "97     Antin Roswarne    232     data-warehouse\n",
       "98         Chen Glewe    133  open architecture\n",
       "99       Corey Comino    164           protocol"
      ]
     },
     "execution_count": 17,
     "metadata": {},
     "output_type": "execute_result"
    }
   ],
   "source": [
    "df[['Name','Total','Grade']].tail()"
   ]
  },
  {
   "cell_type": "code",
   "execution_count": 18,
   "id": "e825601c-27bc-40c4-9346-3ad3f4c6741e",
   "metadata": {},
   "outputs": [],
   "source": [
    "df['Grade']=df['Total'].apply(assign_grade)"
   ]
  },
  {
   "cell_type": "code",
   "execution_count": 19,
   "id": "1ad37a90-b22d-4d49-9524-e8385cbf53bf",
   "metadata": {},
   "outputs": [
    {
     "name": "stdout",
     "output_type": "stream",
     "text": [
      "2\n"
     ]
    }
   ],
   "source": [
    "grade_a_student=df[df['Grade']=='A']\n",
    "print(len(grade_a_student))"
   ]
  },
  {
   "cell_type": "code",
   "execution_count": 20,
   "id": "33f4a6f7-116f-457a-99d9-919f4d59b3fc",
   "metadata": {},
   "outputs": [
    {
     "name": "stdout",
     "output_type": "stream",
     "text": [
      "40\n"
     ]
    }
   ],
   "source": [
    "print(len(df[df['Grade']=='D']))"
   ]
  },
  {
   "cell_type": "code",
   "execution_count": 21,
   "id": "7cec23ca-38f5-4dff-ba87-7c08710faa02",
   "metadata": {},
   "outputs": [
    {
     "name": "stdout",
     "output_type": "stream",
     "text": [
      "99\n"
     ]
    }
   ],
   "source": [
    "math_max=max(df['Math'])\n",
    "print(math_max)"
   ]
  },
  {
   "cell_type": "code",
   "execution_count": 22,
   "id": "3d47cf76-e617-4e3e-bfd8-46aeb38dcbc4",
   "metadata": {},
   "outputs": [
    {
     "name": "stdout",
     "output_type": "stream",
     "text": [
      "    student_id            Name  Math  Science  English  Total Grade\n",
      "38          39  Dorette Caltun    99       60       49    208     B\n"
     ]
    }
   ],
   "source": [
    "print(df[df['Math']==math_max])"
   ]
  },
  {
   "cell_type": "code",
   "execution_count": null,
   "id": "6dd94df8-f57c-4087-a934-68dec18beabe",
   "metadata": {},
   "outputs": [],
   "source": []
  }
 ],
 "metadata": {
  "kernelspec": {
   "display_name": "Python 3 (ipykernel)",
   "language": "python",
   "name": "python3"
  },
  "language_info": {
   "codemirror_mode": {
    "name": "ipython",
    "version": 3
   },
   "file_extension": ".py",
   "mimetype": "text/x-python",
   "name": "python",
   "nbconvert_exporter": "python",
   "pygments_lexer": "ipython3",
   "version": "3.13.2"
  }
 },
 "nbformat": 4,
 "nbformat_minor": 5
}
